{
 "cells": [
  {
   "cell_type": "markdown",
   "metadata": {},
   "source": [
    "# Machine Learning Lab Final Project\n",
    "## Instacart Product Reorder Predictions\n",
    "\n",
    "**Team HAM: Hannah Lyon, Andy Cheon, Meng (Marine) Lin**\n",
    "\n",
    "**December 10, 2019**\n",
    "\n",
    "---"
   ]
  },
  {
   "cell_type": "markdown",
   "metadata": {},
   "source": [
    "### Research question: \n",
    "\n",
    "**How well can we predict whether a product ordered by an Instacart user had been ordered previously by that user?**"
   ]
  },
  {
   "cell_type": "markdown",
   "metadata": {},
   "source": [
    "## Imports"
   ]
  },
  {
   "cell_type": "code",
   "execution_count": 118,
   "metadata": {},
   "outputs": [],
   "source": [
    "import pandas as pd\n",
    "import numpy as np\n",
    "from sklearn import preprocessing\n",
    "from sklearn.ensemble import RandomForestClassifier\n",
    "from sklearn import compose\n",
    "from sklearn.pipeline import Pipeline\n",
    "from sklearn.impute import SimpleImputer\n",
    "from sklearn.model_selection import cross_validate, RandomizedSearchCV, StratifiedShuffleSplit\n",
    "from sklearn.metrics import f1_score, classification_report, confusion_matrix\n",
    "from sklearn.linear_model import LogisticRegression\n",
    "from sklearn.preprocessing import StandardScaler\n",
    "from sklearn.experimental import enable_iterative_imputer\n",
    "from sklearn import preprocessing\n",
    "from sklearn.neighbors import KNeighborsClassifier\n",
    "from sklearn.naive_bayes import GaussianNB\n",
    "from sklearn.svm import SVC\n",
    "from sklearn.ensemble import RandomForestClassifier\n",
    "import seaborn as sns\n",
    "from matplotlib import pyplot as pl\n",
    "import matplotlib.pyplot as plt\n",
    "from rfpimp import importances, plot_corr_heatmap, plot_importances"
   ]
  },
  {
   "cell_type": "markdown",
   "metadata": {},
   "source": [
    "## Acquire data\n",
    "\n",
    "Data are from six tables provided by Instacart, accessed from [Kaggle](https://www.kaggle.com/c/instacart-market-basket-analysis/data).  We join them into one data frame, `df`."
   ]
  },
  {
   "cell_type": "code",
   "execution_count": 115,
   "metadata": {},
   "outputs": [],
   "source": [
    "aisles = pd.read_csv('data/aisles.csv')\n",
    "departments = pd.read_csv('data/departments.csv')\n",
    "order_prior = pd.read_csv('data/order_products__prior.csv')\n",
    "order_train = pd.read_csv('data/order_products__train.csv')\n",
    "orders = pd.read_csv('data/orders.csv')\n",
    "products = pd.read_csv('data/products.csv')"
   ]
  },
  {
   "cell_type": "code",
   "execution_count": 5,
   "metadata": {},
   "outputs": [],
   "source": [
    "products = products.merge(aisles, how='left', left_on='aisle_id', right_on='aisle_id')"
   ]
  },
  {
   "cell_type": "code",
   "execution_count": 6,
   "metadata": {},
   "outputs": [],
   "source": [
    "products = products.merge(departments, how='left', left_on='department_id', right_on='department_id')"
   ]
  },
  {
   "cell_type": "code",
   "execution_count": 7,
   "metadata": {},
   "outputs": [],
   "source": [
    "df = pd.concat([order_prior, order_train], axis = 0)"
   ]
  },
  {
   "cell_type": "code",
   "execution_count": 8,
   "metadata": {},
   "outputs": [],
   "source": [
    "df = df.merge(products, how='left', left_on='product_id', right_on='product_id')"
   ]
  },
  {
   "cell_type": "code",
   "execution_count": 9,
   "metadata": {},
   "outputs": [],
   "source": [
    "df = df.merge(orders, left_on='order_id',   right_on='order_id', how = 'left')"
   ]
  },
  {
   "cell_type": "code",
   "execution_count": null,
   "metadata": {},
   "outputs": [],
   "source": [
    "# df.to_csv('instacart.csv', index = False)  # only run if we want to save the CSV"
   ]
  },
  {
   "cell_type": "code",
   "execution_count": null,
   "metadata": {},
   "outputs": [],
   "source": [
    "# df = pd.read_csv('instacart.csv')"
   ]
  },
  {
   "cell_type": "code",
   "execution_count": 11,
   "metadata": {},
   "outputs": [],
   "source": [
    "df = df.dropna() "
   ]
  },
  {
   "cell_type": "code",
   "execution_count": 63,
   "metadata": {},
   "outputs": [
    {
     "name": "stdout",
     "output_type": "stream",
     "text": [
      "<class 'pandas.core.frame.DataFrame'>\n",
      "Int64Index: 31741038 entries, 0 to 33819105\n",
      "Data columns (total 15 columns):\n",
      "order_id                  int64\n",
      "product_id                int64\n",
      "add_to_cart_order         int64\n",
      "reordered                 int64\n",
      "product_name              object\n",
      "aisle_id                  int64\n",
      "department_id             int64\n",
      "aisle                     object\n",
      "department                object\n",
      "user_id                   int64\n",
      "eval_set                  object\n",
      "order_number              int64\n",
      "order_dow                 int64\n",
      "order_hour_of_day         int64\n",
      "days_since_prior_order    float64\n",
      "dtypes: float64(1), int64(10), object(4)\n",
      "memory usage: 3.8+ GB\n"
     ]
    }
   ],
   "source": [
    "df.info()"
   ]
  },
  {
   "cell_type": "code",
   "execution_count": 13,
   "metadata": {},
   "outputs": [
    {
     "data": {
      "text/plain": [
       "(31741038, 15)"
      ]
     },
     "execution_count": 13,
     "metadata": {},
     "output_type": "execute_result"
    }
   ],
   "source": [
    "df.shape"
   ]
  },
  {
   "cell_type": "markdown",
   "metadata": {},
   "source": [
    "## Data processing / feature engineering"
   ]
  },
  {
   "cell_type": "code",
   "execution_count": 93,
   "metadata": {},
   "outputs": [],
   "source": [
    "def data_clean(df):\n",
    "    \"\"\"\n",
    "    Drop unnecessary columns and create three new features derived from existing features:\n",
    "        1) Whether the order was placed on a weekend (1 = weekend, 0 = weekday)\n",
    "        2) Whether the department carries food staples (1 = staple, 0 = not staple)\n",
    "        3) Whether the product contains the label \"organic\" (1 = organic, 0 = not organic)\n",
    "    Returns a data frame.\n",
    "    \"\"\"\n",
    "    print(\"Getting dummies...\")\n",
    "    df = pd.get_dummies(df, columns=['department_id'], drop_first=True)\n",
    "    \n",
    "    # Create `weekend` feature\n",
    "    print(\"Creating weekend flag...\")\n",
    "    df['weekend'] = 0\n",
    "    df.loc[(df['order_dow'] == 5) | (df['order_dow'] == 6),'weekend'] = 1\n",
    "    \n",
    "    # Create `department_is_staple` feature\n",
    "    print('Encoding dept staples...')\n",
    "    staples = {\n",
    "        'dairy eggs' : 1,\n",
    "        'produce' : 1,\n",
    "        'pantry' : 0,\n",
    "        'meat seafood' : 1,\n",
    "        'bakery' : 0,\n",
    "        'personal care' : 0,\n",
    "        'snacks' : 0,\n",
    "        'breakfast' : 0,\n",
    "        'beverages' : 0,\n",
    "        'deli' : 0,\n",
    "        'household' : 0,\n",
    "        'international' : 0,\n",
    "        'dry goods pasta' : 1,\n",
    "        'frozen' : 0,\n",
    "        'canned goods' : 0,\n",
    "        'babies' : 0,\n",
    "        'pets' : 0,\n",
    "        'alcohol' : 0,\n",
    "        'bulk' : 0,\n",
    "        'missing' : 0,\n",
    "        'other' : 0\n",
    "    }\n",
    "    df.loc[:, 'department_is_staple'] = df['department'].apply(lambda x: staples[x])\n",
    "    \n",
    "    # Create `product_is_organic` feature\n",
    "    print('Encoding organic products...')\n",
    "    df.loc[:, 'product_is_organic'] = 0\n",
    "    df.loc[df.product_name.apply(lambda x: 'organic' in x.lower()), 'product_is_organic'] = 1\n",
    "    \n",
    "    # Drop unnecessary columns\n",
    "    print('Dropping columns...')\n",
    "    df.drop(['product_name', 'aisle', 'department'], axis=1, inplace=True)\n",
    "    \n",
    "    return df"
   ]
  },
  {
   "cell_type": "markdown",
   "metadata": {},
   "source": [
    "## Subset data\n",
    "\n",
    "Due to the size of our dataset (~37M rows), we decided to first subset the data before our stratified train-test split (see below) to have training and prediction complete in a reasonable amount of time on our local machines.  In the future, we would likely use AWS, SparkML, and/or deep learning to help solve this scalibility problem."
   ]
  },
  {
   "cell_type": "code",
   "execution_count": 15,
   "metadata": {},
   "outputs": [],
   "source": [
    "df_subset = df.sample(frac=0.01, replace=False, random_state=42)"
   ]
  },
  {
   "cell_type": "code",
   "execution_count": 16,
   "metadata": {},
   "outputs": [
    {
     "data": {
      "text/plain": [
       "(317410, 15)"
      ]
     },
     "execution_count": 16,
     "metadata": {},
     "output_type": "execute_result"
    }
   ],
   "source": [
    "df_subset.shape"
   ]
  },
  {
   "cell_type": "markdown",
   "metadata": {},
   "source": [
    "## EDA\n",
    "\n",
    "Which features might be important or correlated?"
   ]
  },
  {
   "cell_type": "code",
   "execution_count": 29,
   "metadata": {},
   "outputs": [
    {
     "data": {
      "image/png": "[encoded data removed]",
      "text/plain": [
       "<Figure size 720x576 with 2 Axes>"
      ]
     },
     "metadata": {
      "needs_background": "light"
     },
     "output_type": "display_data"
    }
   ],
   "source": [
    "f, ax = pl.subplots(figsize=(10, 8))\n",
    "corr = df_subset.corr()\n",
    "p = sns.heatmap(corr, annot=True,mask=np.zeros_like(corr, dtype=np.bool), cmap=sns.diverging_palette(220, 10, as_cmap=True),\n",
    "                square=True, ax=ax,fmt=\".3f\")\n",
    "p.get_figure().savefig('heatmap.png')"
   ]
  },
  {
   "cell_type": "markdown",
   "metadata": {},
   "source": [
    "## Feature engineering and train-test split\n",
    "\n",
    "We process our data and perform **stratified train-test split** on our subsetted dataset to ensure train and test sets have the same proportion of each each class."
   ]
  },
  {
   "cell_type": "code",
   "execution_count": 107,
   "metadata": {},
   "outputs": [
    {
     "name": "stdout",
     "output_type": "stream",
     "text": [
      "Getting dummies...\n",
      "Creating weekend flag...\n",
      "Encoding dept staples...\n",
      "Encoding organic products...\n",
      "Dropping columns...\n"
     ]
    },
    {
     "data": {
      "text/plain": [
       "5"
      ]
     },
     "execution_count": 107,
     "metadata": {},
     "output_type": "execute_result"
    }
   ],
   "source": [
    "X = data_clean(df_subset.drop(['reordered', 'eval_set'], axis=1))\n",
    "y = df_subset['reordered']\n",
    "sss = StratifiedShuffleSplit(n_splits=5, test_size=0.3, random_state=42)\n",
    "sss.get_n_splits(X, y)"
   ]
  },
  {
   "cell_type": "markdown",
   "metadata": {},
   "source": [
    "### EDA post-feature engineering"
   ]
  },
  {
   "cell_type": "markdown",
   "metadata": {},
   "source": [
    "Perform quick EDA on our engineered featues."
   ]
  },
  {
   "cell_type": "code",
   "execution_count": 100,
   "metadata": {},
   "outputs": [
    {
     "data": {
      "text/plain": [
       "Text(0.5, 1.0, 'Non Reordered Versus Reordered Products')"
      ]
     },
     "execution_count": 100,
     "metadata": {},
     "output_type": "execute_result"
    },
    {
     "data": {
      "image/png": "[encoded data removed]",
      "text/plain": [
       "<Figure size 432x288 with 1 Axes>"
      ]
     },
     "metadata": {
      "needs_background": "light"
     },
     "output_type": "display_data"
    }
   ],
   "source": [
    "plt.hist(y, color='#607c8e')\n",
    "plt.title('Non Reordered Versus Reordered Products')"
   ]
  },
  {
   "cell_type": "code",
   "execution_count": 102,
   "metadata": {},
   "outputs": [
    {
     "data": {
      "text/plain": [
       "Text(0.5, 1.0, 'Non Organic Versus Organic Products')"
      ]
     },
     "execution_count": 102,
     "metadata": {},
     "output_type": "execute_result"
    },
    {
     "data": {
      "image/png": "[encoded data removed]",
      "text/plain": [
       "<Figure size 432x288 with 1 Axes>"
      ]
     },
     "metadata": {
      "needs_background": "light"
     },
     "output_type": "display_data"
    }
   ],
   "source": [
    "plt.hist(X['product_is_organic'], color='#607c8e')\n",
    "plt.title('Non Organic Versus Organic Products')"
   ]
  },
  {
   "cell_type": "code",
   "execution_count": 103,
   "metadata": {},
   "outputs": [
    {
     "data": {
      "text/plain": [
       "Text(0.5, 1.0, 'Non Staple Versus Staple Products')"
      ]
     },
     "execution_count": 103,
     "metadata": {},
     "output_type": "execute_result"
    },
    {
     "data": {
      "image/png": "[encoded data removed]",
      "text/plain": [
       "<Figure size 432x288 with 1 Axes>"
      ]
     },
     "metadata": {
      "needs_background": "light"
     },
     "output_type": "display_data"
    }
   ],
   "source": [
    "plt.hist(X['department_is_staple'], color='#607c8e')\n",
    "plt.title('Non Staple Versus Staple Products')"
   ]
  },
  {
   "cell_type": "markdown",
   "metadata": {},
   "source": [
    "### Quick check on stratified split indices"
   ]
  },
  {
   "cell_type": "code",
   "execution_count": 108,
   "metadata": {},
   "outputs": [
    {
     "name": "stdout",
     "output_type": "stream",
     "text": [
      "[172729 193163 280056 ... 103326 105193  28049]\n",
      "[314877  55041  90914 ...  81629 168144  67537]\n",
      "[145434 144586 310128 ... 156683 180448 169843]\n",
      "[233854 135606 122563 ... 177163  41070 220790]\n",
      "[195338  75595  72854 ... 174883 230593 167299]\n"
     ]
    }
   ],
   "source": [
    "for train_index, test_index in sss.split(X, y):\n",
    "    print(train_index)"
   ]
  },
  {
   "cell_type": "markdown",
   "metadata": {},
   "source": [
    "### Split into train and test sets accordingly"
   ]
  },
  {
   "cell_type": "code",
   "execution_count": 109,
   "metadata": {},
   "outputs": [],
   "source": [
    "X_train = X.iloc[train_index, :]\n",
    "y_train = y.iloc[train_index]\n",
    "X_test = X.iloc[test_index, :]\n",
    "y_test = y.iloc[test_index]"
   ]
  },
  {
   "cell_type": "code",
   "execution_count": 110,
   "metadata": {},
   "outputs": [],
   "source": [
    "assert X_train.shape[0] == y_train.shape[0]\n",
    "assert X_test.shape[0] == y_test.shape[0]"
   ]
  },
  {
   "cell_type": "code",
   "execution_count": 111,
   "metadata": {},
   "outputs": [
    {
     "name": "stdout",
     "output_type": "stream",
     "text": [
      "X_train: (222187, 32)\n",
      "X_test: (95223, 32)\n"
     ]
    }
   ],
   "source": [
    "print(f'X_train: {X_train.shape}')\n",
    "print(f'X_test: {X_test.shape}')"
   ]
  },
  {
   "cell_type": "markdown",
   "metadata": {},
   "source": [
    "## Pipelines"
   ]
  },
  {
   "cell_type": "markdown",
   "metadata": {},
   "source": [
    "**Note**: We did not include Random Forest in the pipeline due to the volume of our data.  We decided to test out RandomForest separately.  Please see RandomSearch section for more details."
   ]
  },
  {
   "cell_type": "code",
   "execution_count": 112,
   "metadata": {},
   "outputs": [],
   "source": [
    "def make_pipelines():\n",
    "    \"\"\"\n",
    "    Create a pipeline for each of the following algorithms:\n",
    "    1. Logistic Regression\n",
    "    2. k-nearest neighbors (KNN) \n",
    "    3. Naive Bayes (Guassian)\n",
    "    4. Support Vector Machines (SVM)\n",
    "    \n",
    "    Apply StandardScaler before the algorithm if needed. \n",
    "    Use default hyperparameters.\n",
    "    \n",
    "    Return a list of all the pipelines.\n",
    "    \"\"\" \n",
    "    numeric_features = X_train.columns\n",
    "    \n",
    "    numeric_transformer = Pipeline(steps=[\n",
    "    ('imputer',SimpleImputer(strategy='median'))])\n",
    "    \n",
    "    preprocessor = compose.ColumnTransformer(transformers=[\n",
    "        ('num', numeric_transformer, numeric_features)])\n",
    "    \n",
    "    LR = Pipeline([('preprocessor', preprocessor),('LogisticRegression', LogisticRegression(random_state=42))])\n",
    "    KNN = Pipeline([('preprocessor', preprocessor),('scaler', StandardScaler()),('KNeighborsClassifier', KNeighborsClassifier())])\n",
    "    NB = Pipeline([('preprocessor', preprocessor),('GaussianNB', GaussianNB())])\n",
    "    SVM = Pipeline([('preprocessor', preprocessor),('scaler', StandardScaler()), ('SVC', SVC(random_state=42))])\n",
    "\n",
    "    pipelines=[LR,KNN,NB,SVM]\n",
    "    return pipelines"
   ]
  },
  {
   "cell_type": "code",
   "execution_count": 22,
   "metadata": {},
   "outputs": [],
   "source": [
    "pipelines = make_pipelines()"
   ]
  },
  {
   "cell_type": "code",
   "execution_count": 23,
   "metadata": {},
   "outputs": [
    {
     "name": "stderr",
     "output_type": "stream",
     "text": [
      "/opt/anaconda3/lib/python3.7/site-packages/sklearn/linear_model/logistic.py:432: FutureWarning: Default solver will be changed to 'lbfgs' in 0.22. Specify a solver to silence this warning.\n",
      "  FutureWarning)\n"
     ]
    }
   ],
   "source": [
    "for pipe in pipelines:\n",
    "    pipe.fit(X_train, y_train)"
   ]
  },
  {
   "cell_type": "markdown",
   "metadata": {},
   "source": [
    "## Classification scores to compare models"
   ]
  },
  {
   "cell_type": "markdown",
   "metadata": {},
   "source": [
    "The **LogisticRegression** model is our baseline and it has an F1-score of **0.49**. From the classification report, we can see that KNN performs better than our baseline, having F1 0.64. SVC also outperforms and has F1 0.67. GaussianNB appears to perform about the same as the baseline model, with F1 0.49."
   ]
  },
  {
   "cell_type": "code",
   "execution_count": 24,
   "metadata": {
    "scrolled": true
   },
   "outputs": [
    {
     "name": "stderr",
     "output_type": "stream",
     "text": [
      "/opt/anaconda3/lib/python3.7/site-packages/sklearn/metrics/classification.py:1437: UndefinedMetricWarning: Precision and F-score are ill-defined and being set to 0.0 in labels with no predicted samples.\n",
      "  'precision', 'predicted', average, warn_for)\n"
     ]
    },
    {
     "name": "stdout",
     "output_type": "stream",
     "text": [
      "LogisticRegression \n",
      "               precision    recall  f1-score   support\n",
      "\n",
      "           0       0.00      0.00      0.00     35265\n",
      "           1       0.63      1.00      0.77     59958\n",
      "\n",
      "    accuracy                           0.63     95223\n",
      "   macro avg       0.31      0.50      0.39     95223\n",
      "weighted avg       0.40      0.63      0.49     95223\n",
      "\n",
      "KNeighborsClassifier \n",
      "               precision    recall  f1-score   support\n",
      "\n",
      "           0       0.53      0.43      0.47     35265\n",
      "           1       0.70      0.77      0.73     59958\n",
      "\n",
      "    accuracy                           0.65     95223\n",
      "   macro avg       0.61      0.60      0.60     95223\n",
      "weighted avg       0.64      0.65      0.64     95223\n",
      "\n",
      "GaussianNB \n",
      "               precision    recall  f1-score   support\n",
      "\n",
      "           0       0.00      0.00      0.00     35265\n",
      "           1       0.63      1.00      0.77     59958\n",
      "\n",
      "    accuracy                           0.63     95223\n",
      "   macro avg       0.31      0.50      0.39     95223\n",
      "weighted avg       0.40      0.63      0.49     95223\n",
      "\n"
     ]
    },
    {
     "name": "stderr",
     "output_type": "stream",
     "text": [
      "/opt/anaconda3/lib/python3.7/site-packages/sklearn/metrics/classification.py:1437: UndefinedMetricWarning: Precision and F-score are ill-defined and being set to 0.0 in labels with no predicted samples.\n",
      "  'precision', 'predicted', average, warn_for)\n"
     ]
    },
    {
     "name": "stdout",
     "output_type": "stream",
     "text": [
      "SVC \n",
      "               precision    recall  f1-score   support\n",
      "\n",
      "           0       0.65      0.37      0.47     35265\n",
      "           1       0.70      0.88      0.78     59958\n",
      "\n",
      "    accuracy                           0.69     95223\n",
      "   macro avg       0.68      0.63      0.63     95223\n",
      "weighted avg       0.68      0.69      0.67     95223\n",
      "\n"
     ]
    }
   ],
   "source": [
    "for pipe in pipelines:\n",
    "    print(pipe.steps[-1][0],'\\n',classification_report(y_test, pipe.predict(X_test)))"
   ]
  },
  {
   "cell_type": "markdown",
   "metadata": {},
   "source": [
    "#### Confusion matrix"
   ]
  },
  {
   "cell_type": "code",
   "execution_count": 36,
   "metadata": {},
   "outputs": [
    {
     "name": "stdout",
     "output_type": "stream",
     "text": [
      "LogisticRegression \n",
      " [[    0 35265]\n",
      " [    0 59958]]\n",
      "KNeighborsClassifier \n",
      " [[15169 20096]\n",
      " [13522 46436]]\n",
      "GaussianNB \n",
      " [[    0 35265]\n",
      " [    0 59958]]\n",
      "SVC \n",
      " [[12900 22365]\n",
      " [ 6917 53041]]\n"
     ]
    }
   ],
   "source": [
    "for pipe in pipelines:\n",
    "    print(pipe.steps[-1][0],'\\n',confusion_matrix(y_test, pipe.predict(X_test)))"
   ]
  },
  {
   "cell_type": "markdown",
   "metadata": {},
   "source": [
    "#### Weighted F1 score is our North Star metric."
   ]
  },
  {
   "cell_type": "markdown",
   "metadata": {},
   "source": [
    "Sort the models by weighted F1 score, descending:"
   ]
  },
  {
   "cell_type": "code",
   "execution_count": 119,
   "metadata": {},
   "outputs": [],
   "source": [
    "def sort_models(pipelines, X_data, y_data, metric=f1_score, average='weighted'):\n",
    "    \"\"\"\n",
    "    Sort the models in pipeline by weighted F1 score, descending.\n",
    "    \"\"\"\n",
    "    scores={}\n",
    "    for pipe in pipelines:\n",
    "        scores[pipe.steps[-1][0]]=f1_score(y_data,pipe.predict(X_data),average=average)\n",
    "\n",
    "    scores_sorted=dict(sorted(scores.items(), key=lambda x: x[1],reverse=True))\n",
    "    return scores_sorted"
   ]
  },
  {
   "cell_type": "code",
   "execution_count": 26,
   "metadata": {},
   "outputs": [
    {
     "name": "stderr",
     "output_type": "stream",
     "text": [
      "/opt/anaconda3/lib/python3.7/site-packages/sklearn/metrics/classification.py:1437: UndefinedMetricWarning: F-score is ill-defined and being set to 0.0 in labels with no predicted samples.\n",
      "  'precision', 'predicted', average, warn_for)\n",
      "/opt/anaconda3/lib/python3.7/site-packages/sklearn/metrics/classification.py:1437: UndefinedMetricWarning: F-score is ill-defined and being set to 0.0 in labels with no predicted samples.\n",
      "  'precision', 'predicted', average, warn_for)\n"
     ]
    },
    {
     "data": {
      "text/plain": [
       "{'SVC': 0.6669158013436798,\n",
       " 'KNeighborsClassifier': 0.637984711963618,\n",
       " 'LogisticRegression': 0.48656836063123843,\n",
       " 'GaussianNB': 0.48656836063123843}"
      ]
     },
     "execution_count": 26,
     "metadata": {},
     "output_type": "execute_result"
    }
   ],
   "source": [
    "sort_models(pipelines, X_test, y_test, metric=f1_score, average='weighted')"
   ]
  },
  {
   "cell_type": "markdown",
   "metadata": {},
   "source": [
    "## RandomForest"
   ]
  },
  {
   "cell_type": "markdown",
   "metadata": {},
   "source": [
    "In addition to the models we tried in our pipeline, we fit a RandomForest model and tuned its hyperparameters."
   ]
  },
  {
   "cell_type": "markdown",
   "metadata": {},
   "source": [
    "### `RandomizedSearchCV` on RandomForest"
   ]
  },
  {
   "cell_type": "code",
   "execution_count": 25,
   "metadata": {},
   "outputs": [],
   "source": [
    "def make_random_cv(estimator, param_distr, cv=3, n_iter=5):\n",
    "    \"\"\"\n",
    "    Return RandomizedsearchCV\n",
    "    \"\"\"\n",
    "    random_cv = RandomizedSearchCV(\n",
    "                    estimator=estimator,\n",
    "                    cv=cv,\n",
    "                    param_distributions=param_distr,\n",
    "                    n_iter=n_iter\n",
    "                )\n",
    "    return random_cv"
   ]
  },
  {
   "cell_type": "code",
   "execution_count": 26,
   "metadata": {},
   "outputs": [],
   "source": [
    "rf_est = RandomForestClassifier(random_state=42)\n",
    "param_distr = {\n",
    "    'n_estimators' : [25, 50, 100, 200],\n",
    "    'max_features' : [i for i in range(1, 8)],\n",
    "    'min_samples_leaf' : [200, 500, 1500, 5000]\n",
    "}\n",
    "rf_random_cv = make_random_cv(rf_est, param_distr)"
   ]
  },
  {
   "cell_type": "markdown",
   "metadata": {},
   "source": [
    "### Model evaluation"
   ]
  },
  {
   "cell_type": "markdown",
   "metadata": {},
   "source": [
    "**Fit and predict using the best estimator returned from random search.**"
   ]
  },
  {
   "cell_type": "markdown",
   "metadata": {},
   "source": [
    "Because there is no need to one-hot encode categorical variables for RandomForest, we drop the `department_id_<n>` dummy variables."
   ]
  },
  {
   "cell_type": "code",
   "execution_count": 91,
   "metadata": {},
   "outputs": [],
   "source": [
    "X.drop(X.columns[[i for i in range(9, 29)]], axis=1, inplace=True)"
   ]
  },
  {
   "cell_type": "code",
   "execution_count": 62,
   "metadata": {},
   "outputs": [
    {
     "name": "stdout",
     "output_type": "stream",
     "text": [
      "Fitting...\n",
      "{'n_estimators': 50, 'min_samples_leaf': 200, 'max_features': 5}\n",
      "Predicting...\n",
      "0.6954709678389445\n",
      "Fitting...\n",
      "{'n_estimators': 200, 'min_samples_leaf': 200, 'max_features': 6}\n",
      "Predicting...\n",
      "0.6959904354778125\n",
      "Fitting...\n",
      "{'n_estimators': 200, 'min_samples_leaf': 200, 'max_features': 3}\n",
      "Predicting...\n",
      "0.691613546302902\n",
      "Fitting...\n",
      "{'n_estimators': 25, 'min_samples_leaf': 200, 'max_features': 4}\n",
      "Predicting...\n",
      "0.6945970803491976\n",
      "Fitting...\n",
      "{'n_estimators': 50, 'min_samples_leaf': 500, 'max_features': 6}\n",
      "Predicting...\n",
      "0.6910584199380029\n"
     ]
    }
   ],
   "source": [
    "for train_index, test_index in sss.split(X, y):\n",
    "    \n",
    "    X_train = X.iloc[train_index, :]\n",
    "    y_train = y.iloc[train_index]\n",
    "    X_test = X.iloc[test_index, :]\n",
    "    y_test = y.iloc[test_index]\n",
    "    \n",
    "    assert X_train.shape[0] == y_train.shape[0]\n",
    "    assert X_test.shape[0] == y_test.shape[0]\n",
    "    \n",
    "    # Fit on this X_train, y_train split\n",
    "    print(\"Fitting...\")\n",
    "    rf_random_cv.fit(X_train, y_train)\n",
    "    print(rf_random_cv.best_params_)\n",
    "    \n",
    "    # Predict using best estimator, evaluate model\n",
    "    print(\"Predicting...\")\n",
    "    y_pred = rf_random_cv.best_estimator_.predict(X_test)\n",
    "    print(f1_score(y_test, y_pred, average='weighted'))"
   ]
  },
  {
   "cell_type": "code",
   "execution_count": 34,
   "metadata": {},
   "outputs": [
    {
     "data": {
      "text/plain": [
       "RandomForestClassifier(bootstrap=True, class_weight=None, criterion='gini',\n",
       "                       max_depth=None, max_features=7, max_leaf_nodes=None,\n",
       "                       min_impurity_decrease=0.0, min_impurity_split=None,\n",
       "                       min_samples_leaf=200, min_samples_split=2,\n",
       "                       min_weight_fraction_leaf=0.0, n_estimators=200,\n",
       "                       n_jobs=None, oob_score=False, random_state=None,\n",
       "                       verbose=0, warm_start=False)"
      ]
     },
     "execution_count": 34,
     "metadata": {},
     "output_type": "execute_result"
    }
   ],
   "source": [
    "rf = RandomForestClassifier(n_estimators=200, min_samples_leaf=200, max_features=6)\n",
    "rf.fit(X_train, y_train)"
   ]
  },
  {
   "cell_type": "code",
   "execution_count": 61,
   "metadata": {},
   "outputs": [
    {
     "data": {
      "text/plain": [
       "0.6941767925455808"
      ]
     },
     "execution_count": 61,
     "metadata": {},
     "output_type": "execute_result"
    }
   ],
   "source": [
    "y_pred = rf.predict(X_test)\n",
    "f1_score(y_test, y_pred, average='weighted')"
   ]
  },
  {
   "cell_type": "markdown",
   "metadata": {},
   "source": [
    "## Final model selection\n",
    "\n",
    "Based on our RF model's weighted F1 score of 0.694, we choose **RandomForestClassifier** as our model, with the following hyparameters:\n",
    "  - `n_estimators=200`\n",
    "  - `min_samples_leaf=200`\n",
    "  - `max_features=6`"
   ]
  },
  {
   "cell_type": "markdown",
   "metadata": {},
   "source": [
    "## Visualize / interpret model output"
   ]
  },
  {
   "cell_type": "markdown",
   "metadata": {},
   "source": [
    "### Plot feature importances"
   ]
  },
  {
   "cell_type": "code",
   "execution_count": null,
   "metadata": {},
   "outputs": [],
   "source": [
    "imp = importances(rf, X_test, y_test, n_samples=-1)\n",
    "plot_importances(imp)"
   ]
  },
  {
   "cell_type": "code",
   "execution_count": 122,
   "metadata": {},
   "outputs": [
    {
     "data": {
      "image/svg+xml": [
       "<?xml version=\"1.0\" encoding=\"utf-8\" standalone=\"no\"?>\n",
       "<!DOCTYPE svg PUBLIC \"-//W3C//DTD SVG 1.1//EN\"\n",
       "  \"http://www.w3.org/Graphics/SVG/1.1/DTD/svg11.dtd\">\n",
       "<!-- Created with matplotlib (https://matplotlib.org/) -->\n",
       "<svg height=\"392.597344pt\" version=\"1.1\" viewBox=\"0 0 266.421875 392.597344\" width=\"266.421875pt\" xmlns=\"http://www.w3.org/2000/svg\" xmlns:xlink=\"http://www.w3.org/1999/xlink\">\n",
       " <defs>\n",
       "  <style type=\"text/css\">\n",
       "*{stroke-linecap:butt;stroke-linejoin:round;}\n",
       "  </style>\n",
       " </defs>\n",
       " <g id=\"figure_1\">\n",
       "  <g id=\"patch_1\">\n",
       "   <path d=\"M 0 392.597344 \n",
       "L 266.421875 392.597344 \n",
       "L 266.421875 0 \n",
       "L 0 0 \n",
       "z\n",
       "\" style=\"fill:#ffffff;\"/>\n",
       "  </g>\n",
       "  <g id=\"axes_1\">\n",
       "   <g id=\"patch_2\">\n",
       "    <path d=\"M 121.889063 375.919219 \n",
       "L 255.289063 375.919219 \n",
       "L 255.289063 3.799219 \n",
       "L 121.889063 3.799219 \n",
       "z\n",
       "\" style=\"fill:#ffffff;\"/>\n",
       "   </g>\n",
       "   <g id=\"patch_3\">\n",
       "    <path clip-path=\"url(#p037f37787f)\" d=\"M 123.943789 -10.296236 \n",
       "L 211.467763 -10.296236 \n",
       "L 211.467763 17.894673 \n",
       "L 123.943789 17.894673 \n",
       "z\n",
       "\" style=\"fill:#d9e6f5;stroke:#444443;stroke-linejoin:miter;stroke-width:0.5;\"/>\n",
       "   </g>\n",
       "   <g id=\"patch_4\">\n",
       "    <path clip-path=\"url(#p037f37787f)\" d=\"M 123.943789 20.713764 \n",
       "L 143.741973 20.713764 \n",
       "L 143.741973 48.904673 \n",
       "L 123.943789 48.904673 \n",
       "z\n",
       "\" style=\"fill:#d9e6f5;stroke:#444443;stroke-linejoin:miter;stroke-width:0.5;\"/>\n",
       "   </g>\n",
       "   <g id=\"patch_5\">\n",
       "    <path clip-path=\"url(#p037f37787f)\" d=\"M 123.943789 51.723764 \n",
       "L 139.199333 51.723764 \n",
       "L 139.199333 79.914673 \n",
       "L 123.943789 79.914673 \n",
       "z\n",
       "\" style=\"fill:#d9e6f5;stroke:#444443;stroke-linejoin:miter;stroke-width:0.5;\"/>\n",
       "   </g>\n",
       "   <g id=\"patch_6\">\n",
       "    <path clip-path=\"url(#p037f37787f)\" d=\"M 123.943789 82.733764 \n",
       "L 135.833734 82.733764 \n",
       "L 135.833734 110.924673 \n",
       "L 123.943789 110.924673 \n",
       "z\n",
       "\" style=\"fill:#d9e6f5;stroke:#444443;stroke-linejoin:miter;stroke-width:0.5;\"/>\n",
       "   </g>\n",
       "   <g id=\"patch_7\">\n",
       "    <path clip-path=\"url(#p037f37787f)\" d=\"M 123.943789 113.743764 \n",
       "L 126.840411 113.743764 \n",
       "L 126.840411 141.934673 \n",
       "L 123.943789 141.934673 \n",
       "z\n",
       "\" style=\"fill:#d9e6f5;stroke:#444443;stroke-linejoin:miter;stroke-width:0.5;\"/>\n",
       "   </g>\n",
       "   <g id=\"patch_8\">\n",
       "    <path clip-path=\"url(#p037f37787f)\" d=\"M 123.943789 144.753764 \n",
       "L 126.444999 144.753764 \n",
       "L 126.444999 172.944673 \n",
       "L 123.943789 172.944673 \n",
       "z\n",
       "\" style=\"fill:#d9e6f5;stroke:#444443;stroke-linejoin:miter;stroke-width:0.5;\"/>\n",
       "   </g>\n",
       "   <g id=\"patch_9\">\n",
       "    <path clip-path=\"url(#p037f37787f)\" d=\"M 123.943789 175.763764 \n",
       "L 124.182875 175.763764 \n",
       "L 124.182875 203.954673 \n",
       "L 123.943789 203.954673 \n",
       "z\n",
       "\" style=\"fill:#d9e6f5;stroke:#444443;stroke-linejoin:miter;stroke-width:0.5;\"/>\n",
       "   </g>\n",
       "   <g id=\"patch_10\">\n",
       "    <path clip-path=\"url(#p037f37787f)\" d=\"M 123.943789 206.773764 \n",
       "L 124.127701 206.773764 \n",
       "L 124.127701 234.964673 \n",
       "L 123.943789 234.964673 \n",
       "z\n",
       "\" style=\"fill:#d9e6f5;stroke:#444443;stroke-linejoin:miter;stroke-width:0.5;\"/>\n",
       "   </g>\n",
       "   <g id=\"patch_11\">\n",
       "    <path clip-path=\"url(#p037f37787f)\" d=\"M 123.943789 237.783764 \n",
       "L 123.971375 237.783764 \n",
       "L 123.971375 265.974673 \n",
       "L 123.943789 265.974673 \n",
       "z\n",
       "\" style=\"fill:#d9e6f5;stroke:#444443;stroke-linejoin:miter;stroke-width:0.5;\"/>\n",
       "   </g>\n",
       "   <g id=\"patch_12\">\n",
       "    <path clip-path=\"url(#p037f37787f)\" d=\"M 123.943789 268.793764 \n",
       "L 123.89781 268.793764 \n",
       "L 123.89781 296.984673 \n",
       "L 123.943789 296.984673 \n",
       "z\n",
       "\" style=\"fill:#d9e6f5;stroke:#444443;stroke-linejoin:miter;stroke-width:0.5;\"/>\n",
       "   </g>\n",
       "   <g id=\"patch_13\">\n",
       "    <path clip-path=\"url(#p037f37787f)\" d=\"M 123.943789 299.803764 \n",
       "L 123.879419 299.803764 \n",
       "L 123.879419 327.994673 \n",
       "L 123.943789 327.994673 \n",
       "z\n",
       "\" style=\"fill:#d9e6f5;stroke:#444443;stroke-linejoin:miter;stroke-width:0.5;\"/>\n",
       "   </g>\n",
       "   <g id=\"patch_14\">\n",
       "    <path clip-path=\"url(#p037f37787f)\" d=\"M 123.943789 330.813764 \n",
       "L 123.861028 330.813764 \n",
       "L 123.861028 359.004673 \n",
       "L 123.943789 359.004673 \n",
       "z\n",
       "\" style=\"fill:#d9e6f5;stroke:#444443;stroke-linejoin:miter;stroke-width:0.5;\"/>\n",
       "   </g>\n",
       "   <g id=\"patch_15\">\n",
       "    <path clip-path=\"url(#p037f37787f)\" d=\"M 123.943789 361.823764 \n",
       "L 123.640333 361.823764 \n",
       "L 123.640333 390.014673 \n",
       "L 123.943789 390.014673 \n",
       "z\n",
       "\" style=\"fill:#d9e6f5;stroke:#444443;stroke-linejoin:miter;stroke-width:0.5;\"/>\n",
       "   </g>\n",
       "   <g id=\"matplotlib.axis_1\">\n",
       "    <g id=\"xtick_1\">\n",
       "     <g id=\"line2d_1\">\n",
       "      <defs>\n",
       "       <path d=\"M 0 0 \n",
       "L 0 3.5 \n",
       "\" id=\"m8a5993d930\" style=\"stroke:#000000;stroke-width:0.8;\"/>\n",
       "      </defs>\n",
       "      <g>\n",
       "       <use style=\"stroke:#000000;stroke-width:0.8;\" x=\"123.943789\" xlink:href=\"#m8a5993d930\" y=\"375.919219\"/>\n",
       "      </g>\n",
       "     </g>\n",
       "     <g id=\"text_1\">\n",
       "      <!-- 0.00 -->\n",
       "      <defs>\n",
       "       <path d=\"M 31.78125 66.40625 \n",
       "Q 24.171875 66.40625 20.328125 58.90625 \n",
       "Q 16.5 51.421875 16.5 36.375 \n",
       "Q 16.5 21.390625 20.328125 13.890625 \n",
       "Q 24.171875 6.390625 31.78125 6.390625 \n",
       "Q 39.453125 6.390625 43.28125 13.890625 \n",
       "Q 47.125 21.390625 47.125 36.375 \n",
       "Q 47.125 51.421875 43.28125 58.90625 \n",
       "Q 39.453125 66.40625 31.78125 66.40625 \n",
       "z\n",
       "M 31.78125 74.21875 \n",
       "Q 44.046875 74.21875 50.515625 64.515625 \n",
       "Q 56.984375 54.828125 56.984375 36.375 \n",
       "Q 56.984375 17.96875 50.515625 8.265625 \n",
       "Q 44.046875 -1.421875 31.78125 -1.421875 \n",
       "Q 19.53125 -1.421875 13.0625 8.265625 \n",
       "Q 6.59375 17.96875 6.59375 36.375 \n",
       "Q 6.59375 54.828125 13.0625 64.515625 \n",
       "Q 19.53125 74.21875 31.78125 74.21875 \n",
       "z\n",
       "\" id=\"DejaVuSans-48\"/>\n",
       "       <path d=\"M 10.6875 12.40625 \n",
       "L 21 12.40625 \n",
       "L 21 0 \n",
       "L 10.6875 0 \n",
       "z\n",
       "\" id=\"DejaVuSans-46\"/>\n",
       "      </defs>\n",
       "      <g style=\"fill:#444443;\" transform=\"translate(112.810976 390.517656)scale(0.1 -0.1)\">\n",
       "       <use xlink:href=\"#DejaVuSans-48\"/>\n",
       "       <use x=\"63.623047\" xlink:href=\"#DejaVuSans-46\"/>\n",
       "       <use x=\"95.410156\" xlink:href=\"#DejaVuSans-48\"/>\n",
       "       <use x=\"159.033203\" xlink:href=\"#DejaVuSans-48\"/>\n",
       "      </g>\n",
       "     </g>\n",
       "    </g>\n",
       "    <g id=\"xtick_2\">\n",
       "     <g id=\"line2d_2\">\n",
       "      <g>\n",
       "       <use style=\"stroke:#000000;stroke-width:0.8;\" x=\"211.467763\" xlink:href=\"#m8a5993d930\" y=\"375.919219\"/>\n",
       "      </g>\n",
       "     </g>\n",
       "     <g id=\"text_2\">\n",
       "      <!-- 0.10 -->\n",
       "      <defs>\n",
       "       <path d=\"M 12.40625 8.296875 \n",
       "L 28.515625 8.296875 \n",
       "L 28.515625 63.921875 \n",
       "L 10.984375 60.40625 \n",
       "L 10.984375 69.390625 \n",
       "L 28.421875 72.90625 \n",
       "L 38.28125 72.90625 \n",
       "L 38.28125 8.296875 \n",
       "L 54.390625 8.296875 \n",
       "L 54.390625 0 \n",
       "L 12.40625 0 \n",
       "z\n",
       "\" id=\"DejaVuSans-49\"/>\n",
       "      </defs>\n",
       "      <g style=\"fill:#444443;\" transform=\"translate(200.334951 390.517656)scale(0.1 -0.1)\">\n",
       "       <use xlink:href=\"#DejaVuSans-48\"/>\n",
       "       <use x=\"63.623047\" xlink:href=\"#DejaVuSans-46\"/>\n",
       "       <use x=\"95.410156\" xlink:href=\"#DejaVuSans-49\"/>\n",
       "       <use x=\"159.033203\" xlink:href=\"#DejaVuSans-48\"/>\n",
       "      </g>\n",
       "     </g>\n",
       "    </g>\n",
       "    <g id=\"xtick_3\">\n",
       "     <g id=\"line2d_3\">\n",
       "      <g>\n",
       "       <use style=\"stroke:#000000;stroke-width:0.8;\" x=\"255.289063\" xlink:href=\"#m8a5993d930\" y=\"375.919219\"/>\n",
       "      </g>\n",
       "     </g>\n",
       "     <g id=\"text_3\">\n",
       "      <!-- 0.15 -->\n",
       "      <defs>\n",
       "       <path d=\"M 10.796875 72.90625 \n",
       "L 49.515625 72.90625 \n",
       "L 49.515625 64.59375 \n",
       "L 19.828125 64.59375 \n",
       "L 19.828125 46.734375 \n",
       "Q 21.96875 47.46875 24.109375 47.828125 \n",
       "Q 26.265625 48.1875 28.421875 48.1875 \n",
       "Q 40.625 48.1875 47.75 41.5 \n",
       "Q 54.890625 34.8125 54.890625 23.390625 \n",
       "Q 54.890625 11.625 47.5625 5.09375 \n",
       "Q 40.234375 -1.421875 26.90625 -1.421875 \n",
       "Q 22.3125 -1.421875 17.546875 -0.640625 \n",
       "Q 12.796875 0.140625 7.71875 1.703125 \n",
       "L 7.71875 11.625 \n",
       "Q 12.109375 9.234375 16.796875 8.0625 \n",
       "Q 21.484375 6.890625 26.703125 6.890625 \n",
       "Q 35.15625 6.890625 40.078125 11.328125 \n",
       "Q 45.015625 15.765625 45.015625 23.390625 \n",
       "Q 45.015625 31 40.078125 35.4375 \n",
       "Q 35.15625 39.890625 26.703125 39.890625 \n",
       "Q 22.75 39.890625 18.8125 39.015625 \n",
       "Q 14.890625 38.140625 10.796875 36.28125 \n",
       "z\n",
       "\" id=\"DejaVuSans-53\"/>\n",
       "      </defs>\n",
       "      <g style=\"fill:#444443;\" transform=\"translate(244.15625 390.517656)scale(0.1 -0.1)\">\n",
       "       <use xlink:href=\"#DejaVuSans-48\"/>\n",
       "       <use x=\"63.623047\" xlink:href=\"#DejaVuSans-46\"/>\n",
       "       <use x=\"95.410156\" xlink:href=\"#DejaVuSans-49\"/>\n",
       "       <use x=\"159.033203\" xlink:href=\"#DejaVuSans-53\"/>\n",
       "      </g>\n",
       "     </g>\n",
       "    </g>\n",
       "   </g>\n",
       "   <g id=\"matplotlib.axis_2\">\n",
       "    <g id=\"ytick_1\">\n",
       "     <g id=\"line2d_4\">\n",
       "      <defs>\n",
       "       <path d=\"M 0 0 \n",
       "L -3.5 0 \n",
       "\" id=\"m639b3d73c8\" style=\"stroke:#000000;stroke-width:0.8;\"/>\n",
       "      </defs>\n",
       "      <g>\n",
       "       <use style=\"stroke:#000000;stroke-width:0.8;\" x=\"121.889063\" xlink:href=\"#m639b3d73c8\" y=\"3.799219\"/>\n",
       "      </g>\n",
       "     </g>\n",
       "     <g id=\"text_4\">\n",
       "      <!-- order_number -->\n",
       "      <defs>\n",
       "       <path d=\"M 30.609375 48.390625 \n",
       "Q 23.390625 48.390625 19.1875 42.75 \n",
       "Q 14.984375 37.109375 14.984375 27.296875 \n",
       "Q 14.984375 17.484375 19.15625 11.84375 \n",
       "Q 23.34375 6.203125 30.609375 6.203125 \n",
       "Q 37.796875 6.203125 41.984375 11.859375 \n",
       "Q 46.1875 17.53125 46.1875 27.296875 \n",
       "Q 46.1875 37.015625 41.984375 42.703125 \n",
       "Q 37.796875 48.390625 30.609375 48.390625 \n",
       "z\n",
       "M 30.609375 56 \n",
       "Q 42.328125 56 49.015625 48.375 \n",
       "Q 55.71875 40.765625 55.71875 27.296875 \n",
       "Q 55.71875 13.875 49.015625 6.21875 \n",
       "Q 42.328125 -1.421875 30.609375 -1.421875 \n",
       "Q 18.84375 -1.421875 12.171875 6.21875 \n",
       "Q 5.515625 13.875 5.515625 27.296875 \n",
       "Q 5.515625 40.765625 12.171875 48.375 \n",
       "Q 18.84375 56 30.609375 56 \n",
       "z\n",
       "\" id=\"DejaVuSans-111\"/>\n",
       "       <path d=\"M 41.109375 46.296875 \n",
       "Q 39.59375 47.171875 37.8125 47.578125 \n",
       "Q 36.03125 48 33.890625 48 \n",
       "Q 26.265625 48 22.1875 43.046875 \n",
       "Q 18.109375 38.09375 18.109375 28.8125 \n",
       "L 18.109375 0 \n",
       "L 9.078125 0 \n",
       "L 9.078125 54.6875 \n",
       "L 18.109375 54.6875 \n",
       "L 18.109375 46.1875 \n",
       "Q 20.953125 51.171875 25.484375 53.578125 \n",
       "Q 30.03125 56 36.53125 56 \n",
       "Q 37.453125 56 38.578125 55.875 \n",
       "Q 39.703125 55.765625 41.0625 55.515625 \n",
       "z\n",
       "\" id=\"DejaVuSans-114\"/>\n",
       "       <path d=\"M 45.40625 46.390625 \n",
       "L 45.40625 75.984375 \n",
       "L 54.390625 75.984375 \n",
       "L 54.390625 0 \n",
       "L 45.40625 0 \n",
       "L 45.40625 8.203125 \n",
       "Q 42.578125 3.328125 38.25 0.953125 \n",
       "Q 33.9375 -1.421875 27.875 -1.421875 \n",
       "Q 17.96875 -1.421875 11.734375 6.484375 \n",
       "Q 5.515625 14.40625 5.515625 27.296875 \n",
       "Q 5.515625 40.1875 11.734375 48.09375 \n",
       "Q 17.96875 56 27.875 56 \n",
       "Q 33.9375 56 38.25 53.625 \n",
       "Q 42.578125 51.265625 45.40625 46.390625 \n",
       "z\n",
       "M 14.796875 27.296875 \n",
       "Q 14.796875 17.390625 18.875 11.75 \n",
       "Q 22.953125 6.109375 30.078125 6.109375 \n",
       "Q 37.203125 6.109375 41.296875 11.75 \n",
       "Q 45.40625 17.390625 45.40625 27.296875 \n",
       "Q 45.40625 37.203125 41.296875 42.84375 \n",
       "Q 37.203125 48.484375 30.078125 48.484375 \n",
       "Q 22.953125 48.484375 18.875 42.84375 \n",
       "Q 14.796875 37.203125 14.796875 27.296875 \n",
       "z\n",
       "\" id=\"DejaVuSans-100\"/>\n",
       "       <path d=\"M 56.203125 29.59375 \n",
       "L 56.203125 25.203125 \n",
       "L 14.890625 25.203125 \n",
       "Q 15.484375 15.921875 20.484375 11.0625 \n",
       "Q 25.484375 6.203125 34.421875 6.203125 \n",
       "Q 39.59375 6.203125 44.453125 7.46875 \n",
       "Q 49.3125 8.734375 54.109375 11.28125 \n",
       "L 54.109375 2.78125 \n",
       "Q 49.265625 0.734375 44.1875 -0.34375 \n",
       "Q 39.109375 -1.421875 33.890625 -1.421875 \n",
       "Q 20.796875 -1.421875 13.15625 6.1875 \n",
       "Q 5.515625 13.8125 5.515625 26.8125 \n",
       "Q 5.515625 40.234375 12.765625 48.109375 \n",
       "Q 20.015625 56 32.328125 56 \n",
       "Q 43.359375 56 49.78125 48.890625 \n",
       "Q 56.203125 41.796875 56.203125 29.59375 \n",
       "z\n",
       "M 47.21875 32.234375 \n",
       "Q 47.125 39.59375 43.09375 43.984375 \n",
       "Q 39.0625 48.390625 32.421875 48.390625 \n",
       "Q 24.90625 48.390625 20.390625 44.140625 \n",
       "Q 15.875 39.890625 15.1875 32.171875 \n",
       "z\n",
       "\" id=\"DejaVuSans-101\"/>\n",
       "       <path d=\"M 50.984375 -16.609375 \n",
       "L 50.984375 -23.578125 \n",
       "L -0.984375 -23.578125 \n",
       "L -0.984375 -16.609375 \n",
       "z\n",
       "\" id=\"DejaVuSans-95\"/>\n",
       "       <path d=\"M 54.890625 33.015625 \n",
       "L 54.890625 0 \n",
       "L 45.90625 0 \n",
       "L 45.90625 32.71875 \n",
       "Q 45.90625 40.484375 42.875 44.328125 \n",
       "Q 39.84375 48.1875 33.796875 48.1875 \n",
       "Q 26.515625 48.1875 22.3125 43.546875 \n",
       "Q 18.109375 38.921875 18.109375 30.90625 \n",
       "L 18.109375 0 \n",
       "L 9.078125 0 \n",
       "L 9.078125 54.6875 \n",
       "L 18.109375 54.6875 \n",
       "L 18.109375 46.1875 \n",
       "Q 21.34375 51.125 25.703125 53.5625 \n",
       "Q 30.078125 56 35.796875 56 \n",
       "Q 45.21875 56 50.046875 50.171875 \n",
       "Q 54.890625 44.34375 54.890625 33.015625 \n",
       "z\n",
       "\" id=\"DejaVuSans-110\"/>\n",
       "       <path d=\"M 8.5 21.578125 \n",
       "L 8.5 54.6875 \n",
       "L 17.484375 54.6875 \n",
       "L 17.484375 21.921875 \n",
       "Q 17.484375 14.15625 20.5 10.265625 \n",
       "Q 23.53125 6.390625 29.59375 6.390625 \n",
       "Q 36.859375 6.390625 41.078125 11.03125 \n",
       "Q 45.3125 15.671875 45.3125 23.6875 \n",
       "L 45.3125 54.6875 \n",
       "L 54.296875 54.6875 \n",
       "L 54.296875 0 \n",
       "L 45.3125 0 \n",
       "L 45.3125 8.40625 \n",
       "Q 42.046875 3.421875 37.71875 1 \n",
       "Q 33.40625 -1.421875 27.6875 -1.421875 \n",
       "Q 18.265625 -1.421875 13.375 4.4375 \n",
       "Q 8.5 10.296875 8.5 21.578125 \n",
       "z\n",
       "M 31.109375 56 \n",
       "z\n",
       "\" id=\"DejaVuSans-117\"/>\n",
       "       <path d=\"M 52 44.1875 \n",
       "Q 55.375 50.25 60.0625 53.125 \n",
       "Q 64.75 56 71.09375 56 \n",
       "Q 79.640625 56 84.28125 50.015625 \n",
       "Q 88.921875 44.046875 88.921875 33.015625 \n",
       "L 88.921875 0 \n",
       "L 79.890625 0 \n",
       "L 79.890625 32.71875 \n",
       "Q 79.890625 40.578125 77.09375 44.375 \n",
       "Q 74.3125 48.1875 68.609375 48.1875 \n",
       "Q 61.625 48.1875 57.5625 43.546875 \n",
       "Q 53.515625 38.921875 53.515625 30.90625 \n",
       "L 53.515625 0 \n",
       "L 44.484375 0 \n",
       "L 44.484375 32.71875 \n",
       "Q 44.484375 40.625 41.703125 44.40625 \n",
       "Q 38.921875 48.1875 33.109375 48.1875 \n",
       "Q 26.21875 48.1875 22.15625 43.53125 \n",
       "Q 18.109375 38.875 18.109375 30.90625 \n",
       "L 18.109375 0 \n",
       "L 9.078125 0 \n",
       "L 9.078125 54.6875 \n",
       "L 18.109375 54.6875 \n",
       "L 18.109375 46.1875 \n",
       "Q 21.1875 51.21875 25.484375 53.609375 \n",
       "Q 29.78125 56 35.6875 56 \n",
       "Q 41.65625 56 45.828125 52.96875 \n",
       "Q 50 49.953125 52 44.1875 \n",
       "z\n",
       "\" id=\"DejaVuSans-109\"/>\n",
       "       <path d=\"M 48.6875 27.296875 \n",
       "Q 48.6875 37.203125 44.609375 42.84375 \n",
       "Q 40.53125 48.484375 33.40625 48.484375 \n",
       "Q 26.265625 48.484375 22.1875 42.84375 \n",
       "Q 18.109375 37.203125 18.109375 27.296875 \n",
       "Q 18.109375 17.390625 22.1875 11.75 \n",
       "Q 26.265625 6.109375 33.40625 6.109375 \n",
       "Q 40.53125 6.109375 44.609375 11.75 \n",
       "Q 48.6875 17.390625 48.6875 27.296875 \n",
       "z\n",
       "M 18.109375 46.390625 \n",
       "Q 20.953125 51.265625 25.265625 53.625 \n",
       "Q 29.59375 56 35.59375 56 \n",
       "Q 45.5625 56 51.78125 48.09375 \n",
       "Q 58.015625 40.1875 58.015625 27.296875 \n",
       "Q 58.015625 14.40625 51.78125 6.484375 \n",
       "Q 45.5625 -1.421875 35.59375 -1.421875 \n",
       "Q 29.59375 -1.421875 25.265625 0.953125 \n",
       "Q 20.953125 3.328125 18.109375 8.203125 \n",
       "L 18.109375 0 \n",
       "L 9.078125 0 \n",
       "L 9.078125 75.984375 \n",
       "L 18.109375 75.984375 \n",
       "z\n",
       "\" id=\"DejaVuSans-98\"/>\n",
       "      </defs>\n",
       "      <g style=\"fill:#444443;\" transform=\"translate(44.020313 7.598437)scale(0.1 -0.1)\">\n",
       "       <use xlink:href=\"#DejaVuSans-111\"/>\n",
       "       <use x=\"61.181641\" xlink:href=\"#DejaVuSans-114\"/>\n",
       "       <use x=\"102.279297\" xlink:href=\"#DejaVuSans-100\"/>\n",
       "       <use x=\"165.755859\" xlink:href=\"#DejaVuSans-101\"/>\n",
       "       <use x=\"227.279297\" xlink:href=\"#DejaVuSans-114\"/>\n",
       "       <use x=\"268.392578\" xlink:href=\"#DejaVuSans-95\"/>\n",
       "       <use x=\"318.392578\" xlink:href=\"#DejaVuSans-110\"/>\n",
       "       <use x=\"381.771484\" xlink:href=\"#DejaVuSans-117\"/>\n",
       "       <use x=\"445.150391\" xlink:href=\"#DejaVuSans-109\"/>\n",
       "       <use x=\"542.5625\" xlink:href=\"#DejaVuSans-98\"/>\n",
       "       <use x=\"606.039062\" xlink:href=\"#DejaVuSans-101\"/>\n",
       "       <use x=\"667.5625\" xlink:href=\"#DejaVuSans-114\"/>\n",
       "      </g>\n",
       "     </g>\n",
       "    </g>\n",
       "    <g id=\"ytick_2\">\n",
       "     <g id=\"line2d_5\">\n",
       "      <g>\n",
       "       <use style=\"stroke:#000000;stroke-width:0.8;\" x=\"121.889063\" xlink:href=\"#m639b3d73c8\" y=\"34.809219\"/>\n",
       "      </g>\n",
       "     </g>\n",
       "     <g id=\"text_5\">\n",
       "      <!-- add_to_cart_order -->\n",
       "      <defs>\n",
       "       <path d=\"M 34.28125 27.484375 \n",
       "Q 23.390625 27.484375 19.1875 25 \n",
       "Q 14.984375 22.515625 14.984375 16.5 \n",
       "Q 14.984375 11.71875 18.140625 8.90625 \n",
       "Q 21.296875 6.109375 26.703125 6.109375 \n",
       "Q 34.1875 6.109375 38.703125 11.40625 \n",
       "Q 43.21875 16.703125 43.21875 25.484375 \n",
       "L 43.21875 27.484375 \n",
       "z\n",
       "M 52.203125 31.203125 \n",
       "L 52.203125 0 \n",
       "L 43.21875 0 \n",
       "L 43.21875 8.296875 \n",
       "Q 40.140625 3.328125 35.546875 0.953125 \n",
       "Q 30.953125 -1.421875 24.3125 -1.421875 \n",
       "Q 15.921875 -1.421875 10.953125 3.296875 \n",
       "Q 6 8.015625 6 15.921875 \n",
       "Q 6 25.140625 12.171875 29.828125 \n",
       "Q 18.359375 34.515625 30.609375 34.515625 \n",
       "L 43.21875 34.515625 \n",
       "L 43.21875 35.40625 \n",
       "Q 43.21875 41.609375 39.140625 45 \n",
       "Q 35.0625 48.390625 27.6875 48.390625 \n",
       "Q 23 48.390625 18.546875 47.265625 \n",
       "Q 14.109375 46.140625 10.015625 43.890625 \n",
       "L 10.015625 52.203125 \n",
       "Q 14.9375 54.109375 19.578125 55.046875 \n",
       "Q 24.21875 56 28.609375 56 \n",
       "Q 40.484375 56 46.34375 49.84375 \n",
       "Q 52.203125 43.703125 52.203125 31.203125 \n",
       "z\n",
       "\" id=\"DejaVuSans-97\"/>\n",
       "       <path d=\"M 18.3125 70.21875 \n",
       "L 18.3125 54.6875 \n",
       "L 36.8125 54.6875 \n",
       "L 36.8125 47.703125 \n",
       "L 18.3125 47.703125 \n",
       "L 18.3125 18.015625 \n",
       "Q 18.3125 11.328125 20.140625 9.421875 \n",
       "Q 21.96875 7.515625 27.59375 7.515625 \n",
       "L 36.8125 7.515625 \n",
       "L 36.8125 0 \n",
       "L 27.59375 0 \n",
       "Q 17.1875 0 13.234375 3.875 \n",
       "Q 9.28125 7.765625 9.28125 18.015625 \n",
       "L 9.28125 47.703125 \n",
       "L 2.6875 47.703125 \n",
       "L 2.6875 54.6875 \n",
       "L 9.28125 54.6875 \n",
       "L 9.28125 70.21875 \n",
       "z\n",
       "\" id=\"DejaVuSans-116\"/>\n",
       "       <path d=\"M 48.78125 52.59375 \n",
       "L 48.78125 44.1875 \n",
       "Q 44.96875 46.296875 41.140625 47.34375 \n",
       "Q 37.3125 48.390625 33.40625 48.390625 \n",
       "Q 24.65625 48.390625 19.8125 42.84375 \n",
       "Q 14.984375 37.3125 14.984375 27.296875 \n",
       "Q 14.984375 17.28125 19.8125 11.734375 \n",
       "Q 24.65625 6.203125 33.40625 6.203125 \n",
       "Q 37.3125 6.203125 41.140625 7.25 \n",
       "Q 44.96875 8.296875 48.78125 10.40625 \n",
       "L 48.78125 2.09375 \n",
       "Q 45.015625 0.34375 40.984375 -0.53125 \n",
       "Q 36.96875 -1.421875 32.421875 -1.421875 \n",
       "Q 20.0625 -1.421875 12.78125 6.34375 \n",
       "Q 5.515625 14.109375 5.515625 27.296875 \n",
       "Q 5.515625 40.671875 12.859375 48.328125 \n",
       "Q 20.21875 56 33.015625 56 \n",
       "Q 37.15625 56 41.109375 55.140625 \n",
       "Q 45.0625 54.296875 48.78125 52.59375 \n",
       "z\n",
       "\" id=\"DejaVuSans-99\"/>\n",
       "      </defs>\n",
       "      <g style=\"fill:#444443;\" transform=\"translate(24.526562 38.608437)scale(0.1 -0.1)\">\n",
       "       <use xlink:href=\"#DejaVuSans-97\"/>\n",
       "       <use x=\"61.279297\" xlink:href=\"#DejaVuSans-100\"/>\n",
       "       <use x=\"124.755859\" xlink:href=\"#DejaVuSans-100\"/>\n",
       "       <use x=\"188.232422\" xlink:href=\"#DejaVuSans-95\"/>\n",
       "       <use x=\"238.232422\" xlink:href=\"#DejaVuSans-116\"/>\n",
       "       <use x=\"277.441406\" xlink:href=\"#DejaVuSans-111\"/>\n",
       "       <use x=\"338.623047\" xlink:href=\"#DejaVuSans-95\"/>\n",
       "       <use x=\"388.623047\" xlink:href=\"#DejaVuSans-99\"/>\n",
       "       <use x=\"443.603516\" xlink:href=\"#DejaVuSans-97\"/>\n",
       "       <use x=\"504.882812\" xlink:href=\"#DejaVuSans-114\"/>\n",
       "       <use x=\"545.996094\" xlink:href=\"#DejaVuSans-116\"/>\n",
       "       <use x=\"585.205078\" xlink:href=\"#DejaVuSans-95\"/>\n",
       "       <use x=\"635.205078\" xlink:href=\"#DejaVuSans-111\"/>\n",
       "       <use x=\"696.386719\" xlink:href=\"#DejaVuSans-114\"/>\n",
       "       <use x=\"737.484375\" xlink:href=\"#DejaVuSans-100\"/>\n",
       "       <use x=\"800.960938\" xlink:href=\"#DejaVuSans-101\"/>\n",
       "       <use x=\"862.484375\" xlink:href=\"#DejaVuSans-114\"/>\n",
       "      </g>\n",
       "     </g>\n",
       "    </g>\n",
       "    <g id=\"ytick_3\">\n",
       "     <g id=\"line2d_6\">\n",
       "      <g>\n",
       "       <use style=\"stroke:#000000;stroke-width:0.8;\" x=\"121.889063\" xlink:href=\"#m639b3d73c8\" y=\"65.819219\"/>\n",
       "      </g>\n",
       "     </g>\n",
       "     <g id=\"text_6\">\n",
       "      <!-- department_id -->\n",
       "      <defs>\n",
       "       <path d=\"M 18.109375 8.203125 \n",
       "L 18.109375 -20.796875 \n",
       "L 9.078125 -20.796875 \n",
       "L 9.078125 54.6875 \n",
       "L 18.109375 54.6875 \n",
       "L 18.109375 46.390625 \n",
       "Q 20.953125 51.265625 25.265625 53.625 \n",
       "Q 29.59375 56 35.59375 56 \n",
       "Q 45.5625 56 51.78125 48.09375 \n",
       "Q 58.015625 40.1875 58.015625 27.296875 \n",
       "Q 58.015625 14.40625 51.78125 6.484375 \n",
       "Q 45.5625 -1.421875 35.59375 -1.421875 \n",
       "Q 29.59375 -1.421875 25.265625 0.953125 \n",
       "Q 20.953125 3.328125 18.109375 8.203125 \n",
       "z\n",
       "M 48.6875 27.296875 \n",
       "Q 48.6875 37.203125 44.609375 42.84375 \n",
       "Q 40.53125 48.484375 33.40625 48.484375 \n",
       "Q 26.265625 48.484375 22.1875 42.84375 \n",
       "Q 18.109375 37.203125 18.109375 27.296875 \n",
       "Q 18.109375 17.390625 22.1875 11.75 \n",
       "Q 26.265625 6.109375 33.40625 6.109375 \n",
       "Q 40.53125 6.109375 44.609375 11.75 \n",
       "Q 48.6875 17.390625 48.6875 27.296875 \n",
       "z\n",
       "\" id=\"DejaVuSans-112\"/>\n",
       "       <path d=\"M 9.421875 54.6875 \n",
       "L 18.40625 54.6875 \n",
       "L 18.40625 0 \n",
       "L 9.421875 0 \n",
       "z\n",
       "M 9.421875 75.984375 \n",
       "L 18.40625 75.984375 \n",
       "L 18.40625 64.59375 \n",
       "L 9.421875 64.59375 \n",
       "z\n",
       "\" id=\"DejaVuSans-105\"/>\n",
       "      </defs>\n",
       "      <g style=\"fill:#444443;\" transform=\"translate(41.601562 69.618438)scale(0.1 -0.1)\">\n",
       "       <use xlink:href=\"#DejaVuSans-100\"/>\n",
       "       <use x=\"63.476562\" xlink:href=\"#DejaVuSans-101\"/>\n",
       "       <use x=\"125\" xlink:href=\"#DejaVuSans-112\"/>\n",
       "       <use x=\"188.476562\" xlink:href=\"#DejaVuSans-97\"/>\n",
       "       <use x=\"249.755859\" xlink:href=\"#DejaVuSans-114\"/>\n",
       "       <use x=\"290.869141\" xlink:href=\"#DejaVuSans-116\"/>\n",
       "       <use x=\"330.078125\" xlink:href=\"#DejaVuSans-109\"/>\n",
       "       <use x=\"427.490234\" xlink:href=\"#DejaVuSans-101\"/>\n",
       "       <use x=\"489.013672\" xlink:href=\"#DejaVuSans-110\"/>\n",
       "       <use x=\"552.392578\" xlink:href=\"#DejaVuSans-116\"/>\n",
       "       <use x=\"591.601562\" xlink:href=\"#DejaVuSans-95\"/>\n",
       "       <use x=\"641.601562\" xlink:href=\"#DejaVuSans-105\"/>\n",
       "       <use x=\"669.384766\" xlink:href=\"#DejaVuSans-100\"/>\n",
       "      </g>\n",
       "     </g>\n",
       "    </g>\n",
       "    <g id=\"ytick_4\">\n",
       "     <g id=\"line2d_7\">\n",
       "      <g>\n",
       "       <use style=\"stroke:#000000;stroke-width:0.8;\" x=\"121.889063\" xlink:href=\"#m639b3d73c8\" y=\"96.829219\"/>\n",
       "      </g>\n",
       "     </g>\n",
       "     <g id=\"text_7\">\n",
       "      <!-- department_is_staple -->\n",
       "      <defs>\n",
       "       <path d=\"M 44.28125 53.078125 \n",
       "L 44.28125 44.578125 \n",
       "Q 40.484375 46.53125 36.375 47.5 \n",
       "Q 32.28125 48.484375 27.875 48.484375 \n",
       "Q 21.1875 48.484375 17.84375 46.4375 \n",
       "Q 14.5 44.390625 14.5 40.28125 \n",
       "Q 14.5 37.15625 16.890625 35.375 \n",
       "Q 19.28125 33.59375 26.515625 31.984375 \n",
       "L 29.59375 31.296875 \n",
       "Q 39.15625 29.25 43.1875 25.515625 \n",
       "Q 47.21875 21.78125 47.21875 15.09375 \n",
       "Q 47.21875 7.46875 41.1875 3.015625 \n",
       "Q 35.15625 -1.421875 24.609375 -1.421875 \n",
       "Q 20.21875 -1.421875 15.453125 -0.5625 \n",
       "Q 10.6875 0.296875 5.421875 2 \n",
       "L 5.421875 11.28125 \n",
       "Q 10.40625 8.6875 15.234375 7.390625 \n",
       "Q 20.0625 6.109375 24.8125 6.109375 \n",
       "Q 31.15625 6.109375 34.5625 8.28125 \n",
       "Q 37.984375 10.453125 37.984375 14.40625 \n",
       "Q 37.984375 18.0625 35.515625 20.015625 \n",
       "Q 33.0625 21.96875 24.703125 23.78125 \n",
       "L 21.578125 24.515625 \n",
       "Q 13.234375 26.265625 9.515625 29.90625 \n",
       "Q 5.8125 33.546875 5.8125 39.890625 \n",
       "Q 5.8125 47.609375 11.28125 51.796875 \n",
       "Q 16.75 56 26.8125 56 \n",
       "Q 31.78125 56 36.171875 55.265625 \n",
       "Q 40.578125 54.546875 44.28125 53.078125 \n",
       "z\n",
       "\" id=\"DejaVuSans-115\"/>\n",
       "       <path d=\"M 9.421875 75.984375 \n",
       "L 18.40625 75.984375 \n",
       "L 18.40625 0 \n",
       "L 9.421875 0 \n",
       "z\n",
       "\" id=\"DejaVuSans-108\"/>\n",
       "      </defs>\n",
       "      <g style=\"fill:#444443;\" transform=\"translate(7.203125 100.628438)scale(0.1 -0.1)\">\n",
       "       <use xlink:href=\"#DejaVuSans-100\"/>\n",
       "       <use x=\"63.476562\" xlink:href=\"#DejaVuSans-101\"/>\n",
       "       <use x=\"125\" xlink:href=\"#DejaVuSans-112\"/>\n",
       "       <use x=\"188.476562\" xlink:href=\"#DejaVuSans-97\"/>\n",
       "       <use x=\"249.755859\" xlink:href=\"#DejaVuSans-114\"/>\n",
       "       <use x=\"290.869141\" xlink:href=\"#DejaVuSans-116\"/>\n",
       "       <use x=\"330.078125\" xlink:href=\"#DejaVuSans-109\"/>\n",
       "       <use x=\"427.490234\" xlink:href=\"#DejaVuSans-101\"/>\n",
       "       <use x=\"489.013672\" xlink:href=\"#DejaVuSans-110\"/>\n",
       "       <use x=\"552.392578\" xlink:href=\"#DejaVuSans-116\"/>\n",
       "       <use x=\"591.601562\" xlink:href=\"#DejaVuSans-95\"/>\n",
       "       <use x=\"641.601562\" xlink:href=\"#DejaVuSans-105\"/>\n",
       "       <use x=\"669.384766\" xlink:href=\"#DejaVuSans-115\"/>\n",
       "       <use x=\"721.484375\" xlink:href=\"#DejaVuSans-95\"/>\n",
       "       <use x=\"771.484375\" xlink:href=\"#DejaVuSans-115\"/>\n",
       "       <use x=\"823.583984\" xlink:href=\"#DejaVuSans-116\"/>\n",
       "       <use x=\"862.792969\" xlink:href=\"#DejaVuSans-97\"/>\n",
       "       <use x=\"924.072266\" xlink:href=\"#DejaVuSans-112\"/>\n",
       "       <use x=\"987.548828\" xlink:href=\"#DejaVuSans-108\"/>\n",
       "       <use x=\"1015.332031\" xlink:href=\"#DejaVuSans-101\"/>\n",
       "      </g>\n",
       "     </g>\n",
       "    </g>\n",
       "    <g id=\"ytick_5\">\n",
       "     <g id=\"line2d_8\">\n",
       "      <g>\n",
       "       <use style=\"stroke:#000000;stroke-width:0.8;\" x=\"121.889063\" xlink:href=\"#m639b3d73c8\" y=\"127.839219\"/>\n",
       "      </g>\n",
       "     </g>\n",
       "     <g id=\"text_8\">\n",
       "      <!-- aisle_id -->\n",
       "      <g style=\"fill:#444443;\" transform=\"translate(77.715625 131.638438)scale(0.1 -0.1)\">\n",
       "       <use xlink:href=\"#DejaVuSans-97\"/>\n",
       "       <use x=\"61.279297\" xlink:href=\"#DejaVuSans-105\"/>\n",
       "       <use x=\"89.0625\" xlink:href=\"#DejaVuSans-115\"/>\n",
       "       <use x=\"141.162109\" xlink:href=\"#DejaVuSans-108\"/>\n",
       "       <use x=\"168.945312\" xlink:href=\"#DejaVuSans-101\"/>\n",
       "       <use x=\"230.46875\" xlink:href=\"#DejaVuSans-95\"/>\n",
       "       <use x=\"280.46875\" xlink:href=\"#DejaVuSans-105\"/>\n",
       "       <use x=\"308.251953\" xlink:href=\"#DejaVuSans-100\"/>\n",
       "      </g>\n",
       "     </g>\n",
       "    </g>\n",
       "    <g id=\"ytick_6\">\n",
       "     <g id=\"line2d_9\">\n",
       "      <g>\n",
       "       <use style=\"stroke:#000000;stroke-width:0.8;\" x=\"121.889063\" xlink:href=\"#m639b3d73c8\" y=\"158.849219\"/>\n",
       "      </g>\n",
       "     </g>\n",
       "     <g id=\"text_9\">\n",
       "      <!-- days_since_prior_order -->\n",
       "      <defs>\n",
       "       <path d=\"M 32.171875 -5.078125 \n",
       "Q 28.375 -14.84375 24.75 -17.8125 \n",
       "Q 21.140625 -20.796875 15.09375 -20.796875 \n",
       "L 7.90625 -20.796875 \n",
       "L 7.90625 -13.28125 \n",
       "L 13.1875 -13.28125 \n",
       "Q 16.890625 -13.28125 18.9375 -11.515625 \n",
       "Q 21 -9.765625 23.484375 -3.21875 \n",
       "L 25.09375 0.875 \n",
       "L 2.984375 54.6875 \n",
       "L 12.5 54.6875 \n",
       "L 29.59375 11.921875 \n",
       "L 46.6875 54.6875 \n",
       "L 56.203125 54.6875 \n",
       "z\n",
       "\" id=\"DejaVuSans-121\"/>\n",
       "      </defs>\n",
       "      <g style=\"fill:#444443;\" transform=\"translate(0 162.648438)scale(0.1 -0.1)\">\n",
       "       <use xlink:href=\"#DejaVuSans-100\"/>\n",
       "       <use x=\"63.476562\" xlink:href=\"#DejaVuSans-97\"/>\n",
       "       <use x=\"124.755859\" xlink:href=\"#DejaVuSans-121\"/>\n",
       "       <use x=\"183.935547\" xlink:href=\"#DejaVuSans-115\"/>\n",
       "       <use x=\"236.035156\" xlink:href=\"#DejaVuSans-95\"/>\n",
       "       <use x=\"286.035156\" xlink:href=\"#DejaVuSans-115\"/>\n",
       "       <use x=\"338.134766\" xlink:href=\"#DejaVuSans-105\"/>\n",
       "       <use x=\"365.917969\" xlink:href=\"#DejaVuSans-110\"/>\n",
       "       <use x=\"429.296875\" xlink:href=\"#DejaVuSans-99\"/>\n",
       "       <use x=\"484.277344\" xlink:href=\"#DejaVuSans-101\"/>\n",
       "       <use x=\"545.800781\" xlink:href=\"#DejaVuSans-95\"/>\n",
       "       <use x=\"595.800781\" xlink:href=\"#DejaVuSans-112\"/>\n",
       "       <use x=\"659.277344\" xlink:href=\"#DejaVuSans-114\"/>\n",
       "       <use x=\"700.390625\" xlink:href=\"#DejaVuSans-105\"/>\n",
       "       <use x=\"728.173828\" xlink:href=\"#DejaVuSans-111\"/>\n",
       "       <use x=\"789.355469\" xlink:href=\"#DejaVuSans-114\"/>\n",
       "       <use x=\"830.46875\" xlink:href=\"#DejaVuSans-95\"/>\n",
       "       <use x=\"880.46875\" xlink:href=\"#DejaVuSans-111\"/>\n",
       "       <use x=\"941.650391\" xlink:href=\"#DejaVuSans-114\"/>\n",
       "       <use x=\"982.748047\" xlink:href=\"#DejaVuSans-100\"/>\n",
       "       <use x=\"1046.224609\" xlink:href=\"#DejaVuSans-101\"/>\n",
       "       <use x=\"1107.748047\" xlink:href=\"#DejaVuSans-114\"/>\n",
       "      </g>\n",
       "     </g>\n",
       "    </g>\n",
       "    <g id=\"ytick_7\">\n",
       "     <g id=\"line2d_10\">\n",
       "      <g>\n",
       "       <use style=\"stroke:#000000;stroke-width:0.8;\" x=\"121.889063\" xlink:href=\"#m639b3d73c8\" y=\"189.859219\"/>\n",
       "      </g>\n",
       "     </g>\n",
       "     <g id=\"text_10\">\n",
       "      <!-- order_dow -->\n",
       "      <defs>\n",
       "       <path d=\"M 4.203125 54.6875 \n",
       "L 13.1875 54.6875 \n",
       "L 24.421875 12.015625 \n",
       "L 35.59375 54.6875 \n",
       "L 46.1875 54.6875 \n",
       "L 57.421875 12.015625 \n",
       "L 68.609375 54.6875 \n",
       "L 77.59375 54.6875 \n",
       "L 63.28125 0 \n",
       "L 52.6875 0 \n",
       "L 40.921875 44.828125 \n",
       "L 29.109375 0 \n",
       "L 18.5 0 \n",
       "z\n",
       "\" id=\"DejaVuSans-119\"/>\n",
       "      </defs>\n",
       "      <g style=\"fill:#444443;\" transform=\"translate(62.403125 193.658437)scale(0.1 -0.1)\">\n",
       "       <use xlink:href=\"#DejaVuSans-111\"/>\n",
       "       <use x=\"61.181641\" xlink:href=\"#DejaVuSans-114\"/>\n",
       "       <use x=\"102.279297\" xlink:href=\"#DejaVuSans-100\"/>\n",
       "       <use x=\"165.755859\" xlink:href=\"#DejaVuSans-101\"/>\n",
       "       <use x=\"227.279297\" xlink:href=\"#DejaVuSans-114\"/>\n",
       "       <use x=\"268.392578\" xlink:href=\"#DejaVuSans-95\"/>\n",
       "       <use x=\"318.392578\" xlink:href=\"#DejaVuSans-100\"/>\n",
       "       <use x=\"381.869141\" xlink:href=\"#DejaVuSans-111\"/>\n",
       "       <use x=\"443.050781\" xlink:href=\"#DejaVuSans-119\"/>\n",
       "      </g>\n",
       "     </g>\n",
       "    </g>\n",
       "    <g id=\"ytick_8\">\n",
       "     <g id=\"line2d_11\">\n",
       "      <g>\n",
       "       <use style=\"stroke:#000000;stroke-width:0.8;\" x=\"121.889063\" xlink:href=\"#m639b3d73c8\" y=\"220.869219\"/>\n",
       "      </g>\n",
       "     </g>\n",
       "     <g id=\"text_11\">\n",
       "      <!-- order_id -->\n",
       "      <g style=\"fill:#444443;\" transform=\"translate(73.921875 224.668438)scale(0.1 -0.1)\">\n",
       "       <use xlink:href=\"#DejaVuSans-111\"/>\n",
       "       <use x=\"61.181641\" xlink:href=\"#DejaVuSans-114\"/>\n",
       "       <use x=\"102.279297\" xlink:href=\"#DejaVuSans-100\"/>\n",
       "       <use x=\"165.755859\" xlink:href=\"#DejaVuSans-101\"/>\n",
       "       <use x=\"227.279297\" xlink:href=\"#DejaVuSans-114\"/>\n",
       "       <use x=\"268.392578\" xlink:href=\"#DejaVuSans-95\"/>\n",
       "       <use x=\"318.392578\" xlink:href=\"#DejaVuSans-105\"/>\n",
       "       <use x=\"346.175781\" xlink:href=\"#DejaVuSans-100\"/>\n",
       "      </g>\n",
       "     </g>\n",
       "    </g>\n",
       "    <g id=\"ytick_9\">\n",
       "     <g id=\"line2d_12\">\n",
       "      <g>\n",
       "       <use style=\"stroke:#000000;stroke-width:0.8;\" x=\"121.889063\" xlink:href=\"#m639b3d73c8\" y=\"251.879219\"/>\n",
       "      </g>\n",
       "     </g>\n",
       "     <g id=\"text_12\">\n",
       "      <!-- weekend -->\n",
       "      <defs>\n",
       "       <path d=\"M 9.078125 75.984375 \n",
       "L 18.109375 75.984375 \n",
       "L 18.109375 31.109375 \n",
       "L 44.921875 54.6875 \n",
       "L 56.390625 54.6875 \n",
       "L 27.390625 29.109375 \n",
       "L 57.625 0 \n",
       "L 45.90625 0 \n",
       "L 18.109375 26.703125 \n",
       "L 18.109375 0 \n",
       "L 9.078125 0 \n",
       "z\n",
       "\" id=\"DejaVuSans-107\"/>\n",
       "      </defs>\n",
       "      <g style=\"fill:#444443;\" transform=\"translate(69.779688 255.678438)scale(0.1 -0.1)\">\n",
       "       <use xlink:href=\"#DejaVuSans-119\"/>\n",
       "       <use x=\"81.787109\" xlink:href=\"#DejaVuSans-101\"/>\n",
       "       <use x=\"143.310547\" xlink:href=\"#DejaVuSans-101\"/>\n",
       "       <use x=\"204.833984\" xlink:href=\"#DejaVuSans-107\"/>\n",
       "       <use x=\"262.697266\" xlink:href=\"#DejaVuSans-101\"/>\n",
       "       <use x=\"324.220703\" xlink:href=\"#DejaVuSans-110\"/>\n",
       "       <use x=\"387.599609\" xlink:href=\"#DejaVuSans-100\"/>\n",
       "      </g>\n",
       "     </g>\n",
       "    </g>\n",
       "    <g id=\"ytick_10\">\n",
       "     <g id=\"line2d_13\">\n",
       "      <g>\n",
       "       <use style=\"stroke:#000000;stroke-width:0.8;\" x=\"121.889063\" xlink:href=\"#m639b3d73c8\" y=\"282.889219\"/>\n",
       "      </g>\n",
       "     </g>\n",
       "     <g id=\"text_13\">\n",
       "      <!-- product_is_organic -->\n",
       "      <defs>\n",
       "       <path d=\"M 45.40625 27.984375 \n",
       "Q 45.40625 37.75 41.375 43.109375 \n",
       "Q 37.359375 48.484375 30.078125 48.484375 \n",
       "Q 22.859375 48.484375 18.828125 43.109375 \n",
       "Q 14.796875 37.75 14.796875 27.984375 \n",
       "Q 14.796875 18.265625 18.828125 12.890625 \n",
       "Q 22.859375 7.515625 30.078125 7.515625 \n",
       "Q 37.359375 7.515625 41.375 12.890625 \n",
       "Q 45.40625 18.265625 45.40625 27.984375 \n",
       "z\n",
       "M 54.390625 6.78125 \n",
       "Q 54.390625 -7.171875 48.1875 -13.984375 \n",
       "Q 42 -20.796875 29.203125 -20.796875 \n",
       "Q 24.46875 -20.796875 20.265625 -20.09375 \n",
       "Q 16.0625 -19.390625 12.109375 -17.921875 \n",
       "L 12.109375 -9.1875 \n",
       "Q 16.0625 -11.328125 19.921875 -12.34375 \n",
       "Q 23.78125 -13.375 27.78125 -13.375 \n",
       "Q 36.625 -13.375 41.015625 -8.765625 \n",
       "Q 45.40625 -4.15625 45.40625 5.171875 \n",
       "L 45.40625 9.625 \n",
       "Q 42.625 4.78125 38.28125 2.390625 \n",
       "Q 33.9375 0 27.875 0 \n",
       "Q 17.828125 0 11.671875 7.65625 \n",
       "Q 5.515625 15.328125 5.515625 27.984375 \n",
       "Q 5.515625 40.671875 11.671875 48.328125 \n",
       "Q 17.828125 56 27.875 56 \n",
       "Q 33.9375 56 38.28125 53.609375 \n",
       "Q 42.625 51.21875 45.40625 46.390625 \n",
       "L 45.40625 54.6875 \n",
       "L 54.390625 54.6875 \n",
       "z\n",
       "\" id=\"DejaVuSans-103\"/>\n",
       "      </defs>\n",
       "      <g style=\"fill:#444443;\" transform=\"translate(20.903125 286.688437)scale(0.1 -0.1)\">\n",
       "       <use xlink:href=\"#DejaVuSans-112\"/>\n",
       "       <use x=\"63.476562\" xlink:href=\"#DejaVuSans-114\"/>\n",
       "       <use x=\"104.558594\" xlink:href=\"#DejaVuSans-111\"/>\n",
       "       <use x=\"165.740234\" xlink:href=\"#DejaVuSans-100\"/>\n",
       "       <use x=\"229.216797\" xlink:href=\"#DejaVuSans-117\"/>\n",
       "       <use x=\"292.595703\" xlink:href=\"#DejaVuSans-99\"/>\n",
       "       <use x=\"347.576172\" xlink:href=\"#DejaVuSans-116\"/>\n",
       "       <use x=\"386.785156\" xlink:href=\"#DejaVuSans-95\"/>\n",
       "       <use x=\"436.785156\" xlink:href=\"#DejaVuSans-105\"/>\n",
       "       <use x=\"464.568359\" xlink:href=\"#DejaVuSans-115\"/>\n",
       "       <use x=\"516.667969\" xlink:href=\"#DejaVuSans-95\"/>\n",
       "       <use x=\"566.667969\" xlink:href=\"#DejaVuSans-111\"/>\n",
       "       <use x=\"627.849609\" xlink:href=\"#DejaVuSans-114\"/>\n",
       "       <use x=\"668.947266\" xlink:href=\"#DejaVuSans-103\"/>\n",
       "       <use x=\"732.423828\" xlink:href=\"#DejaVuSans-97\"/>\n",
       "       <use x=\"793.703125\" xlink:href=\"#DejaVuSans-110\"/>\n",
       "       <use x=\"857.082031\" xlink:href=\"#DejaVuSans-105\"/>\n",
       "       <use x=\"884.865234\" xlink:href=\"#DejaVuSans-99\"/>\n",
       "      </g>\n",
       "     </g>\n",
       "    </g>\n",
       "    <g id=\"ytick_11\">\n",
       "     <g id=\"line2d_14\">\n",
       "      <g>\n",
       "       <use style=\"stroke:#000000;stroke-width:0.8;\" x=\"121.889063\" xlink:href=\"#m639b3d73c8\" y=\"313.899219\"/>\n",
       "      </g>\n",
       "     </g>\n",
       "     <g id=\"text_14\">\n",
       "      <!-- product_id -->\n",
       "      <g style=\"fill:#444443;\" transform=\"translate(62.082813 317.698437)scale(0.1 -0.1)\">\n",
       "       <use xlink:href=\"#DejaVuSans-112\"/>\n",
       "       <use x=\"63.476562\" xlink:href=\"#DejaVuSans-114\"/>\n",
       "       <use x=\"104.558594\" xlink:href=\"#DejaVuSans-111\"/>\n",
       "       <use x=\"165.740234\" xlink:href=\"#DejaVuSans-100\"/>\n",
       "       <use x=\"229.216797\" xlink:href=\"#DejaVuSans-117\"/>\n",
       "       <use x=\"292.595703\" xlink:href=\"#DejaVuSans-99\"/>\n",
       "       <use x=\"347.576172\" xlink:href=\"#DejaVuSans-116\"/>\n",
       "       <use x=\"386.785156\" xlink:href=\"#DejaVuSans-95\"/>\n",
       "       <use x=\"436.785156\" xlink:href=\"#DejaVuSans-105\"/>\n",
       "       <use x=\"464.568359\" xlink:href=\"#DejaVuSans-100\"/>\n",
       "      </g>\n",
       "     </g>\n",
       "    </g>\n",
       "    <g id=\"ytick_12\">\n",
       "     <g id=\"line2d_15\">\n",
       "      <g>\n",
       "       <use style=\"stroke:#000000;stroke-width:0.8;\" x=\"121.889063\" xlink:href=\"#m639b3d73c8\" y=\"344.909219\"/>\n",
       "      </g>\n",
       "     </g>\n",
       "     <g id=\"text_15\">\n",
       "      <!-- user_id -->\n",
       "      <g style=\"fill:#444443;\" transform=\"translate(78.951563 348.708438)scale(0.1 -0.1)\">\n",
       "       <use xlink:href=\"#DejaVuSans-117\"/>\n",
       "       <use x=\"63.378906\" xlink:href=\"#DejaVuSans-115\"/>\n",
       "       <use x=\"115.478516\" xlink:href=\"#DejaVuSans-101\"/>\n",
       "       <use x=\"177.001953\" xlink:href=\"#DejaVuSans-114\"/>\n",
       "       <use x=\"218.115234\" xlink:href=\"#DejaVuSans-95\"/>\n",
       "       <use x=\"268.115234\" xlink:href=\"#DejaVuSans-105\"/>\n",
       "       <use x=\"295.898438\" xlink:href=\"#DejaVuSans-100\"/>\n",
       "      </g>\n",
       "     </g>\n",
       "    </g>\n",
       "    <g id=\"ytick_13\">\n",
       "     <g id=\"line2d_16\">\n",
       "      <g>\n",
       "       <use style=\"stroke:#000000;stroke-width:0.8;\" x=\"121.889063\" xlink:href=\"#m639b3d73c8\" y=\"375.919219\"/>\n",
       "      </g>\n",
       "     </g>\n",
       "     <g id=\"text_16\">\n",
       "      <!-- order_hour_of_day -->\n",
       "      <defs>\n",
       "       <path d=\"M 54.890625 33.015625 \n",
       "L 54.890625 0 \n",
       "L 45.90625 0 \n",
       "L 45.90625 32.71875 \n",
       "Q 45.90625 40.484375 42.875 44.328125 \n",
       "Q 39.84375 48.1875 33.796875 48.1875 \n",
       "Q 26.515625 48.1875 22.3125 43.546875 \n",
       "Q 18.109375 38.921875 18.109375 30.90625 \n",
       "L 18.109375 0 \n",
       "L 9.078125 0 \n",
       "L 9.078125 75.984375 \n",
       "L 18.109375 75.984375 \n",
       "L 18.109375 46.1875 \n",
       "Q 21.34375 51.125 25.703125 53.5625 \n",
       "Q 30.078125 56 35.796875 56 \n",
       "Q 45.21875 56 50.046875 50.171875 \n",
       "Q 54.890625 44.34375 54.890625 33.015625 \n",
       "z\n",
       "\" id=\"DejaVuSans-104\"/>\n",
       "       <path d=\"M 37.109375 75.984375 \n",
       "L 37.109375 68.5 \n",
       "L 28.515625 68.5 \n",
       "Q 23.6875 68.5 21.796875 66.546875 \n",
       "Q 19.921875 64.59375 19.921875 59.515625 \n",
       "L 19.921875 54.6875 \n",
       "L 34.71875 54.6875 \n",
       "L 34.71875 47.703125 \n",
       "L 19.921875 47.703125 \n",
       "L 19.921875 0 \n",
       "L 10.890625 0 \n",
       "L 10.890625 47.703125 \n",
       "L 2.296875 47.703125 \n",
       "L 2.296875 54.6875 \n",
       "L 10.890625 54.6875 \n",
       "L 10.890625 58.5 \n",
       "Q 10.890625 67.625 15.140625 71.796875 \n",
       "Q 19.390625 75.984375 28.609375 75.984375 \n",
       "z\n",
       "\" id=\"DejaVuSans-102\"/>\n",
       "      </defs>\n",
       "      <g style=\"fill:#444443;\" transform=\"translate(22.109375 379.718438)scale(0.1 -0.1)\">\n",
       "       <use xlink:href=\"#DejaVuSans-111\"/>\n",
       "       <use x=\"61.181641\" xlink:href=\"#DejaVuSans-114\"/>\n",
       "       <use x=\"102.279297\" xlink:href=\"#DejaVuSans-100\"/>\n",
       "       <use x=\"165.755859\" xlink:href=\"#DejaVuSans-101\"/>\n",
       "       <use x=\"227.279297\" xlink:href=\"#DejaVuSans-114\"/>\n",
       "       <use x=\"268.392578\" xlink:href=\"#DejaVuSans-95\"/>\n",
       "       <use x=\"318.392578\" xlink:href=\"#DejaVuSans-104\"/>\n",
       "       <use x=\"381.771484\" xlink:href=\"#DejaVuSans-111\"/>\n",
       "       <use x=\"442.953125\" xlink:href=\"#DejaVuSans-117\"/>\n",
       "       <use x=\"506.332031\" xlink:href=\"#DejaVuSans-114\"/>\n",
       "       <use x=\"547.445312\" xlink:href=\"#DejaVuSans-95\"/>\n",
       "       <use x=\"597.445312\" xlink:href=\"#DejaVuSans-111\"/>\n",
       "       <use x=\"658.626953\" xlink:href=\"#DejaVuSans-102\"/>\n",
       "       <use x=\"693.832031\" xlink:href=\"#DejaVuSans-95\"/>\n",
       "       <use x=\"743.832031\" xlink:href=\"#DejaVuSans-100\"/>\n",
       "       <use x=\"807.308594\" xlink:href=\"#DejaVuSans-97\"/>\n",
       "       <use x=\"868.587891\" xlink:href=\"#DejaVuSans-121\"/>\n",
       "      </g>\n",
       "     </g>\n",
       "    </g>\n",
       "   </g>\n",
       "   <g id=\"patch_16\">\n",
       "    <path d=\"M 121.889063 375.919219 \n",
       "L 121.889063 3.799219 \n",
       "\" style=\"fill:none;stroke:#000000;stroke-linecap:square;stroke-linejoin:miter;stroke-width:0.3;\"/>\n",
       "   </g>\n",
       "   <g id=\"patch_17\">\n",
       "    <path d=\"M 255.289063 375.919219 \n",
       "L 255.289063 3.799219 \n",
       "\" style=\"fill:none;stroke:#000000;stroke-linecap:square;stroke-linejoin:miter;stroke-width:0.3;\"/>\n",
       "   </g>\n",
       "   <g id=\"patch_18\">\n",
       "    <path d=\"M 121.889063 375.919219 \n",
       "L 255.289063 375.919219 \n",
       "\" style=\"fill:none;stroke:#000000;stroke-linecap:square;stroke-linejoin:miter;stroke-width:0.3;\"/>\n",
       "   </g>\n",
       "   <g id=\"patch_19\">\n",
       "    <path d=\"M 121.889063 3.799219 \n",
       "L 255.289063 3.799219 \n",
       "\" style=\"fill:none;stroke:#000000;stroke-linecap:square;stroke-linejoin:miter;stroke-width:0.3;\"/>\n",
       "   </g>\n",
       "  </g>\n",
       " </g>\n",
       " <defs>\n",
       "  <clipPath id=\"p037f37787f\">\n",
       "   <rect height=\"372.12\" width=\"133.4\" x=\"121.889063\" y=\"3.799219\"/>\n",
       "  </clipPath>\n",
       " </defs>\n",
       "</svg>\n"
      ],
      "text/plain": [
       "<rfpimp.PimpViz at 0x1a213e88d0>"
      ]
     },
     "execution_count": 122,
     "metadata": {},
     "output_type": "execute_result"
    }
   ],
   "source": [
    "plot_importances(imp, label_fontsize=10, vscale=2)"
   ]
  },
  {
   "cell_type": "markdown",
   "metadata": {},
   "source": [
    "**Discussion**: It appears that order number and the order in which the product is added to the cart are the most important (based on permutation importance) features, in the context of our RF model.  The `department_is_staple` feature, which we derived, is fourth most important."
   ]
  },
  {
   "cell_type": "markdown",
   "metadata": {},
   "source": [
    "## Conclusion"
   ]
  },
  {
   "cell_type": "markdown",
   "metadata": {},
   "source": [
    "### Summary of methods"
   ]
  },
  {
   "cell_type": "markdown",
   "metadata": {},
   "source": [
    "  - Feature engineering: created 3 new columns (weekend, staple, organic)\n",
    "  - Candidate models: KNN, Naive Bayes, SVM, Logistic Regression, RF\n",
    "  - Chose RF based on F1 score (0.694)"
   ]
  },
  {
   "cell_type": "markdown",
   "metadata": {},
   "source": [
    "### Business impact"
   ]
  },
  {
   "cell_type": "markdown",
   "metadata": {},
   "source": [
    "  - Decent prediction on whether or not a product ordered by a particular user was a reordered product\n",
    "  - Provides insight into which products tend to be reordered\n",
    "  - Could provide suggested products to users who open the app"
   ]
  },
  {
   "cell_type": "markdown",
   "metadata": {},
   "source": [
    "### Limitations / future improvements"
   ]
  },
  {
   "cell_type": "markdown",
   "metadata": {},
   "source": [
    "  - Does not take into account sequence information (user's previous orders, in chronological order)\n",
    "  - Create more customer-specific and customer-product specific features\n",
    "  - Could modify prediction to be user's next ordered product; try apriori algorithm (association learning)"
   ]
  }
 ],
 "metadata": {
  "kernelspec": {
   "display_name": "Python 3",
   "language": "python",
   "name": "python3"
  },
  "language_info": {
   "codemirror_mode": {
    "name": "ipython",
    "version": 3
   },
   "file_extension": ".py",
   "mimetype": "text/x-python",
   "name": "python",
   "nbconvert_exporter": "python",
   "pygments_lexer": "ipython3",
   "version": "3.7.4"
  }
 },
 "nbformat": 4,
 "nbformat_minor": 4
}
